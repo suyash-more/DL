{
 "cells": [
  {
   "cell_type": "code",
   "execution_count": 1,
   "id": "2e29099f",
   "metadata": {},
   "outputs": [],
   "source": [
    "from sklearn.preprocessing import LabelBinarizer\n",
    "from sklearn.metrics import classification_report\n",
    "\n",
    "from tensorflow.keras.models import Sequential\n",
    "from tensorflow.keras.layers import Dense\n",
    "from tensorflow.keras import datasets\n",
    "\n",
    "import matplotlib.pyplot as plt\n",
    "import numpy as np"
   ]
  },
  {
   "cell_type": "code",
   "execution_count": 2,
   "id": "195b75b3",
   "metadata": {},
   "outputs": [],
   "source": [
    "((X_train, Y_train), (X_test, Y_test)) = datasets.cifar10.load_data()"
   ]
  },
  {
   "cell_type": "code",
   "execution_count": 3,
   "id": "c7d50904",
   "metadata": {},
   "outputs": [
    {
     "data": {
      "text/plain": [
       "(50000, 32, 32, 3)"
      ]
     },
     "execution_count": 3,
     "metadata": {},
     "output_type": "execute_result"
    }
   ],
   "source": [
    "X_train.shape"
   ]
  },
  {
   "cell_type": "code",
   "execution_count": 4,
   "id": "6777ca34",
   "metadata": {},
   "outputs": [
    {
     "data": {
      "text/plain": [
       "(50000, 1)"
      ]
     },
     "execution_count": 4,
     "metadata": {},
     "output_type": "execute_result"
    }
   ],
   "source": [
    "Y_train.shape"
   ]
  },
  {
   "cell_type": "code",
   "execution_count": 17,
   "id": "3ec69775",
   "metadata": {},
   "outputs": [
    {
     "name": "stdout",
     "output_type": "stream",
     "text": [
      "[[0 0 0 ... 0 0 0]\n",
      " [0 0 0 ... 0 0 0]\n",
      " [0 0 0 ... 0 0 0]\n",
      " ...\n",
      " [0 0 0 ... 0 0 0]\n",
      " [0 0 0 ... 0 0 0]\n",
      " [0 0 0 ... 0 0 0]]\n",
      "[[0 0 0 ... 0 0 0]\n",
      " [0 0 0 ... 0 0 0]\n",
      " [0 0 0 ... 0 0 0]\n",
      " ...\n",
      " [0 0 0 ... 0 0 0]\n",
      " [0 0 0 ... 0 0 0]\n",
      " [0 0 0 ... 0 0 0]]\n"
     ]
    }
   ],
   "source": [
    "X_train = X_train.reshape(X_train.shape[0], 28*28*1)\n",
    "X_test = X_test.reshape(X_test.shape[0], 28*28*1)\n",
    "print(X_train)\n",
    "print(X_test)"
   ]
  },
  {
   "cell_type": "code",
   "execution_count": 18,
   "id": "8ce090c8",
   "metadata": {},
   "outputs": [],
   "source": [
    "X_train = X_train.astype(\"float32\") / 255.0\n",
    "X_test = X_test.astype(\"float32\") / 255.0\n",
    "\n"
   ]
  },
  {
   "cell_type": "code",
   "execution_count": 19,
   "id": "ec474bc3",
   "metadata": {},
   "outputs": [],
   "source": [
    "lb = LabelBinarizer()\n",
    "Y_train = lb.fit_transform(Y_train)\n",
    "Y_test = lb.fit_transform(Y_test)"
   ]
  },
  {
   "cell_type": "code",
   "execution_count": 20,
   "id": "eeb03957",
   "metadata": {},
   "outputs": [
    {
     "data": {
      "text/plain": [
       "array([[0, 0, 0, ..., 1, 0, 0],\n",
       "       [0, 0, 1, ..., 0, 0, 0],\n",
       "       [0, 1, 0, ..., 0, 0, 0],\n",
       "       ...,\n",
       "       [0, 0, 0, ..., 0, 0, 0],\n",
       "       [0, 0, 0, ..., 0, 0, 0],\n",
       "       [0, 0, 0, ..., 0, 0, 0]])"
      ]
     },
     "execution_count": 20,
     "metadata": {},
     "output_type": "execute_result"
    }
   ],
   "source": [
    "Y_test"
   ]
  },
  {
   "cell_type": "code",
   "execution_count": 25,
   "id": "6036c998",
   "metadata": {},
   "outputs": [],
   "source": [
    "model = Sequential()\n",
    "model.add(Dense(128, input_shape=(784,), activation =\"sigmoid\"))\n",
    "model.add(Dense(64, activation =\"sigmoid\"))\n",
    "model.add(Dense(10, activation =\"softmax\"))      "
   ]
  },
  {
   "cell_type": "code",
   "execution_count": 26,
   "id": "a6a3af94",
   "metadata": {},
   "outputs": [
    {
     "name": "stdout",
     "output_type": "stream",
     "text": [
      "Model: \"sequential_1\"\n",
      "_________________________________________________________________\n",
      " Layer (type)                Output Shape              Param #   \n",
      "=================================================================\n",
      " dense_3 (Dense)             (None, 128)               100480    \n",
      "                                                                 \n",
      " dense_4 (Dense)             (None, 64)                8256      \n",
      "                                                                 \n",
      " dense_5 (Dense)             (None, 10)                650       \n",
      "                                                                 \n",
      "=================================================================\n",
      "Total params: 109,386\n",
      "Trainable params: 109,386\n",
      "Non-trainable params: 0\n",
      "_________________________________________________________________\n"
     ]
    }
   ],
   "source": [
    "model.summary()"
   ]
  },
  {
   "cell_type": "code",
   "execution_count": 30,
   "id": "07d18cf0",
   "metadata": {},
   "outputs": [
    {
     "name": "stdout",
     "output_type": "stream",
     "text": [
      "Epoch 1/10\n",
      "469/469 [==============================] - 3s 5ms/step - loss: 2.1720 - accuracy: 0.4906 - val_loss: 2.1310 - val_accuracy: 0.5200\n",
      "Epoch 2/10\n",
      "469/469 [==============================] - 2s 4ms/step - loss: 2.0877 - accuracy: 0.5609 - val_loss: 2.0283 - val_accuracy: 0.6211\n",
      "Epoch 3/10\n",
      "469/469 [==============================] - 2s 4ms/step - loss: 1.9672 - accuracy: 0.6068 - val_loss: 1.8843 - val_accuracy: 0.6073\n",
      "Epoch 4/10\n",
      "469/469 [==============================] - 2s 5ms/step - loss: 1.8053 - accuracy: 0.6212 - val_loss: 1.7019 - val_accuracy: 0.6499\n",
      "Epoch 5/10\n",
      "469/469 [==============================] - 2s 4ms/step - loss: 1.6161 - accuracy: 0.6526 - val_loss: 1.5066 - val_accuracy: 0.6524\n",
      "Epoch 6/10\n",
      "469/469 [==============================] - 3s 6ms/step - loss: 1.4287 - accuracy: 0.6786 - val_loss: 1.3278 - val_accuracy: 0.6891\n",
      "Epoch 7/10\n",
      "469/469 [==============================] - 2s 5ms/step - loss: 1.2655 - accuracy: 0.7103 - val_loss: 1.1793 - val_accuracy: 0.7297\n",
      "Epoch 8/10\n",
      "469/469 [==============================] - 3s 6ms/step - loss: 1.1323 - accuracy: 0.7409 - val_loss: 1.0608 - val_accuracy: 0.7438\n",
      "Epoch 9/10\n",
      "469/469 [==============================] - 2s 5ms/step - loss: 1.0255 - accuracy: 0.7616 - val_loss: 0.9653 - val_accuracy: 0.7694\n",
      "Epoch 10/10\n",
      "469/469 [==============================] - 2s 4ms/step - loss: 0.9388 - accuracy: 0.7792 - val_loss: 0.8861 - val_accuracy: 0.7932\n"
     ]
    }
   ],
   "source": [
    "model.compile(loss=\"categorical_crossentropy\", optimizer=\"sgd\", metrics=[\"accuracy\"])\n",
    "h = model.fit(X_train,Y_train, epochs=10,validation_data=(X_test, Y_test), batch_size=128)"
   ]
  },
  {
   "cell_type": "code",
   "execution_count": 31,
   "id": "42279002",
   "metadata": {},
   "outputs": [
    {
     "name": "stdout",
     "output_type": "stream",
     "text": [
      "79/79 [==============================] - 0s 2ms/step\n"
     ]
    }
   ],
   "source": [
    "prediction  = model.predict(X_test, batch_size=128)"
   ]
  },
  {
   "cell_type": "code",
   "execution_count": 34,
   "id": "4419e44b",
   "metadata": {},
   "outputs": [
    {
     "name": "stdout",
     "output_type": "stream",
     "text": [
      "              precision    recall  f1-score   support\n",
      "\n",
      "           0       0.96      0.86      0.90      1096\n",
      "           1       0.97      0.83      0.89      1331\n",
      "           2       0.76      0.84      0.80       931\n",
      "           3       0.84      0.71      0.77      1204\n",
      "           4       0.81      0.70      0.75      1138\n",
      "           5       0.54      0.85      0.66       568\n",
      "           6       0.89      0.86      0.87       997\n",
      "           7       0.89      0.79      0.83      1156\n",
      "           8       0.69      0.78      0.73       867\n",
      "           9       0.53      0.75      0.62       712\n",
      "\n",
      "    accuracy                           0.79     10000\n",
      "   macro avg       0.79      0.80      0.78     10000\n",
      "weighted avg       0.82      0.79      0.80     10000\n",
      "\n"
     ]
    }
   ],
   "source": [
    "print(classification_report(prediction.argmax(axis=1), Y_test.argmax(axis=1)))"
   ]
  },
  {
   "cell_type": "code",
   "execution_count": 35,
   "id": "2513d950",
   "metadata": {},
   "outputs": [
    {
     "data": {
      "text/plain": [
       "[<matplotlib.lines.Line2D at 0x227b484e2b0>]"
      ]
     },
     "execution_count": 35,
     "metadata": {},
     "output_type": "execute_result"
    },
    {
     "data": {
      "image/png": "[encoded data removed]",
      "text/plain": [
       "<Figure size 640x480 with 1 Axes>"
      ]
     },
     "metadata": {},
     "output_type": "display_data"
    }
   ],
   "source": [
    "plt.figure()\n",
    "epochs = 10\n",
    "plt.plot(np.arange(0,epochs), h.history[\"loss\"], label=\"train_loss\")\n",
    "plt.plot(np.arange(0,epochs), h.history[\"accuracy\"], label=\"train_accuracy\")\n",
    "plt.plot(np.arange(0,epochs), h.history[\"val_loss\"], label=\"test_loss\")\n",
    "plt.plot(np.arange(0,epochs), h.history[\"val_accuracy\"], label=\"test_accuracy\")"
   ]
  },
  {
   "cell_type": "code",
   "execution_count": null,
   "id": "c13df742",
   "metadata": {},
   "outputs": [],
   "source": []
  }
 ],
 "metadata": {
  "kernelspec": {
   "display_name": "venv",
   "language": "python",
   "name": "venv"
  },
  "language_info": {
   "codemirror_mode": {
    "name": "ipython",
    "version": 3
   },
   "file_extension": ".py",
   "mimetype": "text/x-python",
   "name": "python",
   "nbconvert_exporter": "python",
   "pygments_lexer": "ipython3",
   "version": "3.8.10"
  }
 },
 "nbformat": 4,
 "nbformat_minor": 5
}
