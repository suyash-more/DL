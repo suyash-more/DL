{
  "cells": [
    {
      "cell_type": "code",
      "execution_count": 8,
      "metadata": {
        "id": "V51q50EbF-T9"
      },
      "outputs": [],
      "source": [
        "#importing libraries\n",
        "from keras.preprocessing import text\n",
        "from keras.utils import np_utils\n",
        "from keras.preprocessing import sequence\n",
        "from keras.utils import pad_sequences\n",
        "import numpy as np\n",
        "import pandas as pd"
      ]
    },
    {
      "cell_type": "code",
      "execution_count": 9,
      "metadata": {
        "id": "wBUwYdBJElVz"
      },
      "outputs": [],
      "source": [
        "#taking random sentences as data\n",
        "data = \"\"\"Deep learning (also known as deep structured learning) is part of a broader family of machine learning methods based on artificial neural networks with representation learning. Learning can be supervised, semi-supervised or unsupervised. \n",
        "Deep-learning architectures such as deep neural networks, deep belief networks, deep reinforcement learning, recurrent neural networks, convolutional neural networks and Transformers have been applied to fields including computer vision, speech recognition, natural language processing, machine translation, bioinformatics, drug design, medical image analysis, climate science, material inspection and board game programs, where they have produced results comparable to and in some cases surpassing human expert performance.\n",
        "\"\"\"\n",
        "dl_data = data.split()"
      ]
    },
    {
      "cell_type": "code",
      "execution_count": 13,
      "metadata": {
        "colab": {
          "base_uri": "https://localhost:8080/"
        },
        "id": "celNk9LmEvm8",
        "outputId": "4e2143b6-92dc-452f-f468-7c9e6238e287"
      },
      "outputs": [
        {
          "name": "stdout",
          "output_type": "stream",
          "text": [
            "Vocabulary Size: 75\n",
            "Vocabulary Sample: [('learning', 1), ('deep', 2), ('networks', 3), ('neural', 4), ('and', 5), ('as', 6), ('of', 7), ('machine', 8), ('supervised', 9), ('have', 10)]\n"
          ]
        }
      ],
      "source": [
        "#tokenization\n",
        "tokenizer = text.Tokenizer()\n",
        "tokenizer.fit_on_texts(dl_data)\n",
        "word2id = tokenizer.word_index\n",
        "\n",
        "word2id['PAD'] = 0\n",
        "id2word = {v:k for k, v in word2id.items()}\n",
        "wids = [[word2id[w] for w in text.text_to_word_sequence(doc)] for doc in dl_data]\n",
        "\n",
        "vocab_size = len(word2id)\n",
        "embed_size = 100\n",
        "window_size = 2 \n",
        "\n",
        "print('Vocabulary Size:', vocab_size)\n",
        "print('Vocabulary Sample:', list(word2id.items())[:10])"
      ]
    },
    {
      "cell_type": "code",
      "execution_count": 18,
      "metadata": {
        "id": "AAxNYDanInQC"
      },
      "outputs": [],
      "source": [
        "#generating (context word, target/label word) pairs\n",
        "def generate_context_word_pairs(corpus, window_size, vocab_size):\n",
        "    context_length = window_size*2\n",
        "    for words in corpus:\n",
        "        sentence_length = len(words)\n",
        "        for index, word in enumerate(words):\n",
        "            context_words = []\n",
        "            label_word   = []            \n",
        "            start = index - window_size\n",
        "            end = index + window_size + 1\n",
        "            \n",
        "            context_words.append([words[i] \n",
        "                                 for i in range(start, end) \n",
        "                                 if 0 <= i < sentence_length \n",
        "                                 and i != index])\n",
        "            label_word.append(word)\n",
        "\n",
        "            x = pad_sequences(context_words, maxlen=context_length)\n",
        "            y = np_utils.to_categorical(label_word, vocab_size)\n",
        "            yield (x, y)\n",
        "            \n",
        "i = 0\n",
        "for x, y in generate_context_word_pairs(corpus=wids, window_size=window_size, vocab_size=vocab_size):\n",
        "    if 0 not in x[0]:\n",
        "        # print('Context (X):', [id2word[w] for w in x[0]], '-> Target (Y):', id2word[np.argwhere(y[0])[0][0]])\n",
        "    \n",
        "        if i == 10:\n",
        "            break\n",
        "        i += 1"
      ]
    },
    {
      "cell_type": "code",
      "execution_count": 19,
      "metadata": {
        "colab": {
          "base_uri": "https://localhost:8080/"
        },
        "id": "Rb5dNmoZKZBv",
        "outputId": "b859c07e-6989-420d-b169-8aa0b93ff367"
      },
      "outputs": [
        {
          "name": "stdout",
          "output_type": "stream",
          "text": [
            "Model: \"sequential_1\"\n",
            "_________________________________________________________________\n",
            " Layer (type)                Output Shape              Param #   \n",
            "=================================================================\n",
            " embedding_1 (Embedding)     (None, 4, 100)            7500      \n",
            "                                                                 \n",
            " lambda_1 (Lambda)           (None, 100)               0         \n",
            "                                                                 \n",
            " dense_1 (Dense)             (None, 75)                7575      \n",
            "                                                                 \n",
            "=================================================================\n",
            "Total params: 15,075\n",
            "Trainable params: 15,075\n",
            "Non-trainable params: 0\n",
            "_________________________________________________________________\n",
            "None\n"
          ]
        }
      ],
      "source": [
        "#model building\n",
        "import keras.backend as K\n",
        "from keras.models import Sequential\n",
        "from keras.layers import Dense, Embedding, Lambda\n",
        "\n",
        "cbow = Sequential()\n",
        "cbow.add(Embedding(input_dim=vocab_size, output_dim=embed_size, input_length=window_size*2))\n",
        "cbow.add(Lambda(lambda x: K.mean(x, axis=1), output_shape=(embed_size,)))\n",
        "cbow.add(Dense(vocab_size, activation='softmax'))\n",
        "cbow.compile(loss='categorical_crossentropy', optimizer='rmsprop')\n",
        "\n",
        "print(cbow.summary())\n",
        "\n",
        "# from IPython.display import SVG\n",
        "# from keras.utils.vis_utils import model_to_dot\n",
        "\n",
        "# SVG(model_to_dot(cbow, show_shapes=True, show_layer_names=False, rankdir='TB').create(prog='dot', format='svg'))"
      ]
    },
    {
      "cell_type": "code",
      "execution_count": 4,
      "metadata": {
        "colab": {
          "base_uri": "https://localhost:8080/"
        },
        "id": "xs12C3MDK1q4",
        "outputId": "fe8783b3-0ee1-4286-be40-6713afa14f9c"
      },
      "outputs": [
        {
          "name": "stdout",
          "output_type": "stream",
          "text": [
            "Epoch: 1 \tLoss: 434.3181896209717\n",
            "\n",
            "Epoch: 2 \tLoss: 429.8252649307251\n",
            "\n",
            "Epoch: 3 \tLoss: 426.54452538490295\n",
            "\n",
            "Epoch: 4 \tLoss: 423.13419938087463\n",
            "\n",
            "Epoch: 5 \tLoss: 420.3350956439972\n",
            "\n"
          ]
        }
      ],
      "source": [
        "for epoch in range(1, 6):\n",
        "    loss = 0.\n",
        "    i = 0\n",
        "    for x, y in generate_context_word_pairs(corpus=wids, window_size=window_size, vocab_size=vocab_size):\n",
        "        i += 1\n",
        "        loss += cbow.train_on_batch(x, y)\n",
        "        if i % 100000 == 0:\n",
        "            print('Processed {} (context, word) pairs'.format(i))\n",
        "\n",
        "    print('Epoch:', epoch, '\\tLoss:', loss)\n",
        "    print()"
      ]
    },
    {
      "cell_type": "code",
      "execution_count": 5,
      "metadata": {
        "colab": {
          "base_uri": "https://localhost:8080/",
          "height": 253
        },
        "id": "TZ3_QGKVK6Tj",
        "outputId": "cd9d167a-85a3-4cc9-eccb-faf997526122"
      },
      "outputs": [
        {
          "name": "stdout",
          "output_type": "stream",
          "text": [
            "(74, 100)\n"
          ]
        },
        {
          "data": {
            "text/html": [
              "\n",
              "  <div id=\"df-4518ecb7-143b-4ab1-8130-c25c05509a39\">\n",
              "    <div class=\"colab-df-container\">\n",
              "      <div>\n",
              "<style scoped>\n",
              "    .dataframe tbody tr th:only-of-type {\n",
              "        vertical-align: middle;\n",
              "    }\n",
              "\n",
              "    .dataframe tbody tr th {\n",
              "        vertical-align: top;\n",
              "    }\n",
              "\n",
              "    .dataframe thead th {\n",
              "        text-align: right;\n",
              "    }\n",
              "</style>\n",
              "<table border=\"1\" class=\"dataframe\">\n",
              "  <thead>\n",
              "    <tr style=\"text-align: right;\">\n",
              "      <th></th>\n",
              "      <th>0</th>\n",
              "      <th>1</th>\n",
              "      <th>2</th>\n",
              "      <th>3</th>\n",
              "      <th>4</th>\n",
              "      <th>5</th>\n",
              "      <th>6</th>\n",
              "      <th>7</th>\n",
              "      <th>8</th>\n",
              "      <th>9</th>\n",
              "      <th>...</th>\n",
              "      <th>90</th>\n",
              "      <th>91</th>\n",
              "      <th>92</th>\n",
              "      <th>93</th>\n",
              "      <th>94</th>\n",
              "      <th>95</th>\n",
              "      <th>96</th>\n",
              "      <th>97</th>\n",
              "      <th>98</th>\n",
              "      <th>99</th>\n",
              "    </tr>\n",
              "  </thead>\n",
              "  <tbody>\n",
              "    <tr>\n",
              "      <th>deep</th>\n",
              "      <td>0.023335</td>\n",
              "      <td>-0.052239</td>\n",
              "      <td>0.049198</td>\n",
              "      <td>0.017686</td>\n",
              "      <td>0.043500</td>\n",
              "      <td>-0.032212</td>\n",
              "      <td>0.001213</td>\n",
              "      <td>0.021125</td>\n",
              "      <td>-0.025337</td>\n",
              "      <td>-0.049103</td>\n",
              "      <td>...</td>\n",
              "      <td>0.005565</td>\n",
              "      <td>-0.001519</td>\n",
              "      <td>-0.015575</td>\n",
              "      <td>0.018224</td>\n",
              "      <td>-0.058333</td>\n",
              "      <td>0.031053</td>\n",
              "      <td>0.042993</td>\n",
              "      <td>0.027365</td>\n",
              "      <td>-0.002815</td>\n",
              "      <td>-0.026678</td>\n",
              "    </tr>\n",
              "    <tr>\n",
              "      <th>networks</th>\n",
              "      <td>-0.025227</td>\n",
              "      <td>-0.036622</td>\n",
              "      <td>0.058194</td>\n",
              "      <td>0.051734</td>\n",
              "      <td>0.024122</td>\n",
              "      <td>-0.012788</td>\n",
              "      <td>-0.040460</td>\n",
              "      <td>0.026885</td>\n",
              "      <td>-0.014765</td>\n",
              "      <td>-0.019587</td>\n",
              "      <td>...</td>\n",
              "      <td>0.014059</td>\n",
              "      <td>-0.025177</td>\n",
              "      <td>0.058541</td>\n",
              "      <td>0.009207</td>\n",
              "      <td>0.013229</td>\n",
              "      <td>-0.027335</td>\n",
              "      <td>-0.046967</td>\n",
              "      <td>-0.025953</td>\n",
              "      <td>-0.056178</td>\n",
              "      <td>-0.038047</td>\n",
              "    </tr>\n",
              "    <tr>\n",
              "      <th>neural</th>\n",
              "      <td>-0.035517</td>\n",
              "      <td>0.006722</td>\n",
              "      <td>0.010547</td>\n",
              "      <td>0.011032</td>\n",
              "      <td>0.020513</td>\n",
              "      <td>0.016522</td>\n",
              "      <td>-0.024069</td>\n",
              "      <td>0.019897</td>\n",
              "      <td>-0.019221</td>\n",
              "      <td>-0.005009</td>\n",
              "      <td>...</td>\n",
              "      <td>-0.019308</td>\n",
              "      <td>-0.017212</td>\n",
              "      <td>0.015266</td>\n",
              "      <td>-0.033982</td>\n",
              "      <td>-0.022133</td>\n",
              "      <td>0.014349</td>\n",
              "      <td>-0.031207</td>\n",
              "      <td>-0.042295</td>\n",
              "      <td>0.045650</td>\n",
              "      <td>0.042140</td>\n",
              "    </tr>\n",
              "    <tr>\n",
              "      <th>and</th>\n",
              "      <td>0.007806</td>\n",
              "      <td>-0.032948</td>\n",
              "      <td>0.038503</td>\n",
              "      <td>0.019530</td>\n",
              "      <td>-0.000720</td>\n",
              "      <td>0.044247</td>\n",
              "      <td>-0.015843</td>\n",
              "      <td>-0.015839</td>\n",
              "      <td>-0.002367</td>\n",
              "      <td>0.025112</td>\n",
              "      <td>...</td>\n",
              "      <td>0.004512</td>\n",
              "      <td>0.047402</td>\n",
              "      <td>-0.037761</td>\n",
              "      <td>-0.012823</td>\n",
              "      <td>0.031585</td>\n",
              "      <td>0.010365</td>\n",
              "      <td>0.014927</td>\n",
              "      <td>0.031424</td>\n",
              "      <td>0.020282</td>\n",
              "      <td>-0.021302</td>\n",
              "    </tr>\n",
              "    <tr>\n",
              "      <th>as</th>\n",
              "      <td>-0.016440</td>\n",
              "      <td>-0.016150</td>\n",
              "      <td>0.027937</td>\n",
              "      <td>-0.046403</td>\n",
              "      <td>0.022232</td>\n",
              "      <td>0.011129</td>\n",
              "      <td>-0.019134</td>\n",
              "      <td>0.013406</td>\n",
              "      <td>-0.003144</td>\n",
              "      <td>0.005184</td>\n",
              "      <td>...</td>\n",
              "      <td>-0.043847</td>\n",
              "      <td>-0.000040</td>\n",
              "      <td>-0.025836</td>\n",
              "      <td>0.014498</td>\n",
              "      <td>0.049902</td>\n",
              "      <td>-0.023295</td>\n",
              "      <td>0.012868</td>\n",
              "      <td>0.040676</td>\n",
              "      <td>-0.014567</td>\n",
              "      <td>0.049588</td>\n",
              "    </tr>\n",
              "  </tbody>\n",
              "</table>\n",
              "<p>5 rows × 100 columns</p>\n",
              "</div>\n",
              "      <button class=\"colab-df-convert\" onclick=\"convertToInteractive('df-4518ecb7-143b-4ab1-8130-c25c05509a39')\"\n",
              "              title=\"Convert this dataframe to an interactive table.\"\n",
              "              style=\"display:none;\">\n",
              "        \n",
              "  <svg xmlns=\"http://www.w3.org/2000/svg\" height=\"24px\"viewBox=\"0 0 24 24\"\n",
              "       width=\"24px\">\n",
              "    <path d=\"M0 0h24v24H0V0z\" fill=\"none\"/>\n",
              "    <path d=\"M18.56 5.44l.94 2.06.94-2.06 2.06-.94-2.06-.94-.94-2.06-.94 2.06-2.06.94zm-11 1L8.5 8.5l.94-2.06 2.06-.94-2.06-.94L8.5 2.5l-.94 2.06-2.06.94zm10 10l.94 2.06.94-2.06 2.06-.94-2.06-.94-.94-2.06-.94 2.06-2.06.94z\"/><path d=\"M17.41 7.96l-1.37-1.37c-.4-.4-.92-.59-1.43-.59-.52 0-1.04.2-1.43.59L10.3 9.45l-7.72 7.72c-.78.78-.78 2.05 0 2.83L4 21.41c.39.39.9.59 1.41.59.51 0 1.02-.2 1.41-.59l7.78-7.78 2.81-2.81c.8-.78.8-2.07 0-2.86zM5.41 20L4 18.59l7.72-7.72 1.47 1.35L5.41 20z\"/>\n",
              "  </svg>\n",
              "      </button>\n",
              "      \n",
              "  <style>\n",
              "    .colab-df-container {\n",
              "      display:flex;\n",
              "      flex-wrap:wrap;\n",
              "      gap: 12px;\n",
              "    }\n",
              "\n",
              "    .colab-df-convert {\n",
              "      background-color: #E8F0FE;\n",
              "      border: none;\n",
              "      border-radius: 50%;\n",
              "      cursor: pointer;\n",
              "      display: none;\n",
              "      fill: #1967D2;\n",
              "      height: 32px;\n",
              "      padding: 0 0 0 0;\n",
              "      width: 32px;\n",
              "    }\n",
              "\n",
              "    .colab-df-convert:hover {\n",
              "      background-color: #E2EBFA;\n",
              "      box-shadow: 0px 1px 2px rgba(60, 64, 67, 0.3), 0px 1px 3px 1px rgba(60, 64, 67, 0.15);\n",
              "      fill: #174EA6;\n",
              "    }\n",
              "\n",
              "    [theme=dark] .colab-df-convert {\n",
              "      background-color: #3B4455;\n",
              "      fill: #D2E3FC;\n",
              "    }\n",
              "\n",
              "    [theme=dark] .colab-df-convert:hover {\n",
              "      background-color: #434B5C;\n",
              "      box-shadow: 0px 1px 3px 1px rgba(0, 0, 0, 0.15);\n",
              "      filter: drop-shadow(0px 1px 2px rgba(0, 0, 0, 0.3));\n",
              "      fill: #FFFFFF;\n",
              "    }\n",
              "  </style>\n",
              "\n",
              "      <script>\n",
              "        const buttonEl =\n",
              "          document.querySelector('#df-4518ecb7-143b-4ab1-8130-c25c05509a39 button.colab-df-convert');\n",
              "        buttonEl.style.display =\n",
              "          google.colab.kernel.accessAllowed ? 'block' : 'none';\n",
              "\n",
              "        async function convertToInteractive(key) {\n",
              "          const element = document.querySelector('#df-4518ecb7-143b-4ab1-8130-c25c05509a39');\n",
              "          const dataTable =\n",
              "            await google.colab.kernel.invokeFunction('convertToInteractive',\n",
              "                                                     [key], {});\n",
              "          if (!dataTable) return;\n",
              "\n",
              "          const docLinkHtml = 'Like what you see? Visit the ' +\n",
              "            '<a target=\"_blank\" href=https://colab.research.google.com/notebooks/data_table.ipynb>data table notebook</a>'\n",
              "            + ' to learn more about interactive tables.';\n",
              "          element.innerHTML = '';\n",
              "          dataTable['output_type'] = 'display_data';\n",
              "          await google.colab.output.renderOutput(dataTable, element);\n",
              "          const docLink = document.createElement('div');\n",
              "          docLink.innerHTML = docLinkHtml;\n",
              "          element.appendChild(docLink);\n",
              "        }\n",
              "      </script>\n",
              "    </div>\n",
              "  </div>\n",
              "  "
            ],
            "text/plain": [
              "                0         1         2         3         4         5   \\\n",
              "deep      0.023335 -0.052239  0.049198  0.017686  0.043500 -0.032212   \n",
              "networks -0.025227 -0.036622  0.058194  0.051734  0.024122 -0.012788   \n",
              "neural   -0.035517  0.006722  0.010547  0.011032  0.020513  0.016522   \n",
              "and       0.007806 -0.032948  0.038503  0.019530 -0.000720  0.044247   \n",
              "as       -0.016440 -0.016150  0.027937 -0.046403  0.022232  0.011129   \n",
              "\n",
              "                6         7         8         9   ...        90        91  \\\n",
              "deep      0.001213  0.021125 -0.025337 -0.049103  ...  0.005565 -0.001519   \n",
              "networks -0.040460  0.026885 -0.014765 -0.019587  ...  0.014059 -0.025177   \n",
              "neural   -0.024069  0.019897 -0.019221 -0.005009  ... -0.019308 -0.017212   \n",
              "and      -0.015843 -0.015839 -0.002367  0.025112  ...  0.004512  0.047402   \n",
              "as       -0.019134  0.013406 -0.003144  0.005184  ... -0.043847 -0.000040   \n",
              "\n",
              "                92        93        94        95        96        97  \\\n",
              "deep     -0.015575  0.018224 -0.058333  0.031053  0.042993  0.027365   \n",
              "networks  0.058541  0.009207  0.013229 -0.027335 -0.046967 -0.025953   \n",
              "neural    0.015266 -0.033982 -0.022133  0.014349 -0.031207 -0.042295   \n",
              "and      -0.037761 -0.012823  0.031585  0.010365  0.014927  0.031424   \n",
              "as       -0.025836  0.014498  0.049902 -0.023295  0.012868  0.040676   \n",
              "\n",
              "                98        99  \n",
              "deep     -0.002815 -0.026678  \n",
              "networks -0.056178 -0.038047  \n",
              "neural    0.045650  0.042140  \n",
              "and       0.020282 -0.021302  \n",
              "as       -0.014567  0.049588  \n",
              "\n",
              "[5 rows x 100 columns]"
            ]
          },
          "execution_count": 5,
          "metadata": {},
          "output_type": "execute_result"
        }
      ],
      "source": [
        "weights = cbow.get_weights()[0]\n",
        "weights = weights[1:]\n",
        "print(weights.shape)\n",
        "\n",
        "pd.DataFrame(weights, index=list(id2word.values())[1:]).head()"
      ]
    },
    {
      "cell_type": "code",
      "execution_count": 7,
      "metadata": {
        "colab": {
          "base_uri": "https://localhost:8080/"
        },
        "id": "UFs2IAn_LAYS",
        "outputId": "87ae1249-6a80-484f-b4a2-4d5f20734db7"
      },
      "outputs": [
        {
          "name": "stdout",
          "output_type": "stream",
          "text": [
            "(74, 74)\n"
          ]
        },
        {
          "data": {
            "text/plain": [
              "{'deep': ['learning', 'methods', 'to', 'can', 'in']}"
            ]
          },
          "execution_count": 7,
          "metadata": {},
          "output_type": "execute_result"
        }
      ],
      "source": [
        "from sklearn.metrics.pairwise import euclidean_distances\n",
        "\n",
        "distance_matrix = euclidean_distances(weights)\n",
        "print(distance_matrix.shape)\n",
        "\n",
        "similar_words = {search_term: [id2word[idx] for idx in distance_matrix[word2id[search_term]-1].argsort()[1:6]+1] \n",
        "                   for search_term in ['deep']}\n",
        "\n",
        "similar_words"
      ]
    }
  ],
  "metadata": {
    "colab": {
      "collapsed_sections": [],
      "provenance": []
    },
    "kernelspec": {
      "display_name": "Python 3",
      "name": "python3"
    },
    "language_info": {
      "name": "python"
    }
  },
  "nbformat": 4,
  "nbformat_minor": 0
}
