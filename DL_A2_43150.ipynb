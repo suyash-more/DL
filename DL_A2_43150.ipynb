{
  "cells": [
    {
      "cell_type": "code",
      "execution_count": 8,
      "metadata": {
        "id": "hcpVc-38-OFf"
      },
      "outputs": [],
      "source": [
        "#installations\n",
        "from sklearn.preprocessing import LabelBinarizer\n",
        "from sklearn.metrics import classification_report\n",
        "from tensorflow.keras.models import Sequential\n",
        "from tensorflow.keras.layers import Dense\n",
        "from tensorflow.keras.optimizers import SGD\n",
        "from tensorflow.keras.datasets import mnist\n",
        "from tensorflow.keras import backend as K\n",
        "import matplotlib.pyplot as plt\n",
        "import numpy as np"
      ]
    },
    {
      "cell_type": "code",
      "execution_count": 9,
      "metadata": {
        "id": "LUZLOYG8-Yz2"
      },
      "outputs": [],
      "source": [
        "#grabbing the mnist dataset\n",
        "((X_train, Y_train), (X_test, Y_test)) = mnist.load_data()\n",
        "X_train = X_train.reshape((X_train.shape[0], 28 * 28 * 1))\n",
        "X_test = X_test.reshape((X_test.shape[0], 28 * 28 * 1))\n",
        "X_train = X_train.astype(\"float32\") / 255.0\n",
        "X_test = X_test.astype(\"float32\") / 255.0"
      ]
    },
    {
      "cell_type": "code",
      "execution_count": 10,
      "metadata": {
        "id": "rGDSwm8e-i44"
      },
      "outputs": [],
      "source": [
        "lb = LabelBinarizer()\n",
        "Y_train = lb.fit_transform(Y_train)\n",
        "Y_test = lb.transform(Y_test)"
      ]
    },
    {
      "cell_type": "code",
      "execution_count": 11,
      "metadata": {
        "id": "lxBbB-yA-s_g"
      },
      "outputs": [],
      "source": [
        "#building the model\n",
        "model = Sequential()\n",
        "model.add(Dense(128, input_shape=(784,), activation=\"sigmoid\"))\n",
        "model.add(Dense(64, activation=\"sigmoid\"))\n",
        "model.add(Dense(10, activation=\"softmax\"))"
      ]
    },
    {
      "cell_type": "code",
      "execution_count": 15,
      "metadata": {
        "colab": {
          "base_uri": "https://localhost:8080/"
        },
        "id": "xKc03Mvz-wrz",
        "outputId": "b0544424-d139-48f9-c1bc-1f6f5d659645"
      },
      "outputs": [
        {
          "name": "stdout",
          "output_type": "stream",
          "text": [
            "Epoch 1/10\n",
            "469/469 [==============================] - 3s 6ms/step - loss: 1.7774 - accuracy: 0.5913 - val_loss: 1.6768 - val_accuracy: 0.6130\n",
            "Epoch 2/10\n",
            "469/469 [==============================] - 2s 5ms/step - loss: 1.5965 - accuracy: 0.6282 - val_loss: 1.4964 - val_accuracy: 0.6528\n",
            "Epoch 3/10\n",
            "469/469 [==============================] - 2s 5ms/step - loss: 1.4255 - accuracy: 0.6666 - val_loss: 1.3359 - val_accuracy: 0.6909\n",
            "Epoch 4/10\n",
            "469/469 [==============================] - 2s 5ms/step - loss: 1.2772 - accuracy: 0.7010 - val_loss: 1.2009 - val_accuracy: 0.7123\n",
            "Epoch 5/10\n",
            "469/469 [==============================] - 2s 5ms/step - loss: 1.1540 - accuracy: 0.7259 - val_loss: 1.0890 - val_accuracy: 0.7391\n",
            "Epoch 6/10\n",
            "469/469 [==============================] - 3s 5ms/step - loss: 1.0531 - accuracy: 0.7453 - val_loss: 0.9984 - val_accuracy: 0.7653\n",
            "Epoch 7/10\n",
            "469/469 [==============================] - 2s 5ms/step - loss: 0.9705 - accuracy: 0.7646 - val_loss: 0.9232 - val_accuracy: 0.7744\n",
            "Epoch 8/10\n",
            "469/469 [==============================] - 2s 5ms/step - loss: 0.9016 - accuracy: 0.7781 - val_loss: 0.8599 - val_accuracy: 0.7926\n",
            "Epoch 9/10\n",
            "469/469 [==============================] - 2s 5ms/step - loss: 0.8431 - accuracy: 0.7917 - val_loss: 0.8062 - val_accuracy: 0.8018\n",
            "Epoch 10/10\n",
            "469/469 [==============================] - 2s 5ms/step - loss: 0.7926 - accuracy: 0.8022 - val_loss: 0.7584 - val_accuracy: 0.8154\n"
          ]
        }
      ],
      "source": [
        "sgd = SGD(0.01)\n",
        "epochs=10\n",
        "model.compile(loss=\"categorical_crossentropy\", optimizer=sgd,metrics=[\"accuracy\"])\n",
        "H = model.fit(X_train, Y_train, validation_data=(X_test, Y_test),epochs=epochs, batch_size=128)"
      ]
    },
    {
      "cell_type": "code",
      "execution_count": 16,
      "metadata": {
        "colab": {
          "base_uri": "https://localhost:8080/"
        },
        "id": "Mhq0Upb3-8O3",
        "outputId": "eba335a5-13da-4ebd-dafa-1c137c15ff89"
      },
      "outputs": [
        {
          "name": "stdout",
          "output_type": "stream",
          "text": [
            "79/79 [==============================] - 0s 3ms/step\n",
            "              precision    recall  f1-score   support\n",
            "\n",
            "           0       0.86      0.96      0.91       980\n",
            "           1       0.87      0.98      0.92      1135\n",
            "           2       0.85      0.77      0.81      1032\n",
            "           3       0.76      0.81      0.79      1010\n",
            "           4       0.73      0.84      0.78       982\n",
            "           5       0.81      0.61      0.70       892\n",
            "           6       0.87      0.90      0.89       958\n",
            "           7       0.84      0.86      0.85      1028\n",
            "           8       0.78      0.71      0.74       974\n",
            "           9       0.76      0.67      0.71      1009\n",
            "\n",
            "    accuracy                           0.82     10000\n",
            "   macro avg       0.81      0.81      0.81     10000\n",
            "weighted avg       0.81      0.82      0.81     10000\n",
            "\n"
          ]
        }
      ],
      "source": [
        "#making the predictions\n",
        "predictions = model.predict(X_test, batch_size=128)\n",
        "print(classification_report(Y_test.argmax(axis=1),predictions.argmax(axis=1),target_names=[str(x) for x in lb.classes_]))"
      ]
    },
    {
      "cell_type": "code",
      "execution_count": 17,
      "metadata": {
        "colab": {
          "base_uri": "https://localhost:8080/",
          "height": 316
        },
        "id": "DN7oqCII_Crw",
        "outputId": "6946110c-590d-4825-dabe-e030fefa519c"
      },
      "outputs": [
        {
          "data": {
            "text/plain": [
              "<matplotlib.legend.Legend at 0x7f55a707da10>"
            ]
          },
          "execution_count": 17,
          "metadata": {},
          "output_type": "execute_result"
        },
        {
          "data": {
            "image/png": "[encoded data removed]",
            "text/plain": [
              "<Figure size 432x288 with 1 Axes>"
            ]
          },
          "metadata": {},
          "output_type": "display_data"
        }
      ],
      "source": [
        "#plotting the training loss and accuracy\n",
        "plt.style.use(\"ggplot\")\n",
        "plt.figure()\n",
        "plt.plot(np.arange(0, epochs), H.history[\"loss\"], label=\"train_loss\")\n",
        "plt.plot(np.arange(0, epochs), H.history[\"val_loss\"], label=\"val_loss\")\n",
        "plt.plot(np.arange(0, epochs), H.history[\"accuracy\"], label=\"train_acc\")\n",
        "plt.plot(np.arange(0, epochs), H.history[\"val_accuracy\"], label=\"val_acc\")\n",
        "plt.title(\"Training Loss and Accuracy\")\n",
        "plt.xlabel(\"Epoch #\")\n",
        "plt.ylabel(\"Loss/Accuracy\")\n",
        "plt.legend()"
      ]
    },
    {
      "cell_type": "code",
      "execution_count": null,
      "metadata": {
        "id": "dsgxIAZF9na1"
      },
      "outputs": [],
      "source": []
    }
  ],
  "metadata": {
    "colab": {
      "collapsed_sections": [],
      "provenance": []
    },
    "kernelspec": {
      "display_name": "Python 3.10.2 64-bit",
      "language": "python",
      "name": "python3"
    },
    "language_info": {
      "name": "python",
      "version": "3.10.2"
    },
    "vscode": {
      "interpreter": {
        "hash": "abb966b7ea35b20666f3a996666172c7b349752d6f16e30915fecc2a1a4bf9ca"
      }
    }
  },
  "nbformat": 4,
  "nbformat_minor": 0
}
